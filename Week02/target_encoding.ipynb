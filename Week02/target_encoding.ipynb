{
 "cells": [
  {
   "cell_type": "markdown",
   "metadata": {},
   "source": [
    "# HomeWork\n",
    "请将target_mean_v1代码改为 cython 代码并比较速度区别\n",
    "（如可以实现并行可加分）。"
   ]
  },
  {
   "cell_type": "code",
   "execution_count": 2,
   "metadata": {},
   "outputs": [],
   "source": [
    "import numpy as np\n",
    "import pandas as pd\n",
    "\n",
    "\n",
    "def target_mean_v1(data, y_name, x_name):\n",
    "    result = np.zeros(data.shape[0])\n",
    "    for i in range(data.shape[0]):\n",
    "        groupby_result = data[data.index != i].groupby([x_name], as_index=False).agg(['mean', 'count'])\n",
    "        result[i] = groupby_result.loc[groupby_result.index == data.loc[i, x_name], (y_name, 'mean')]\n",
    "    return result\n",
    "\n",
    "\n",
    "def target_mean_v2(data, y_name, x_name):\n",
    "    result = np.zeros(data.shape[0])\n",
    "    value_dict = dict()\n",
    "    count_dict = dict()\n",
    "    for i in range(data.shape[0]):\n",
    "        if data.loc[i, x_name] not in value_dict.keys():\n",
    "            value_dict[data.loc[i, x_name]] = data.loc[i, y_name]\n",
    "            count_dict[data.loc[i, x_name]] = 1\n",
    "        else:\n",
    "            value_dict[data.loc[i, x_name]] += data.loc[i, y_name]\n",
    "            count_dict[data.loc[i, x_name]] += 1\n",
    "    for i in range(data.shape[0]):\n",
    "        result[i] = (value_dict[data.loc[i, x_name]] - data.loc[i, y_name]) / (count_dict[data.loc[i, x_name]] - 1)\n",
    "    return result\n",
    "\n",
    "def main():\n",
    "    y = np.random.randint(2, size=(5000, 1))\n",
    "    x = np.random.randint(10, size=(5000, 1))\n",
    "    data = pd.DataFrame(np.concatenate([y, x], axis=1), columns=['y', 'x'])\n",
    "    result_1 = target_mean_v1(data, 'y', 'x')\n",
    "    result_2 = target_mean_v2(data, 'y', 'x')\n",
    "\n",
    "    diff = np.linalg.norm(result_1 - result_2)\n",
    "    print(diff)"
   ]
  },
  {
   "cell_type": "code",
   "execution_count": 1,
   "metadata": {},
   "outputs": [],
   "source": [
    "%load_ext Cython"
   ]
  },
  {
   "cell_type": "code",
   "execution_count": 11,
   "metadata": {},
   "outputs": [],
   "source": [
    "y = np.random.randint(2, size=(5000, 1))\n",
    "x = np.random.randint(10, size=(5000, 1))\n",
    "data = pd.DataFrame(np.concatenate([y, x], axis=1), columns=['y', 'x'])"
   ]
  },
  {
   "cell_type": "code",
   "execution_count": 55,
   "metadata": {},
   "outputs": [],
   "source": [
    "%%cython\n",
    "cimport cython\n",
    "import numpy as np\n",
    "cimport numpy as np\n",
    "from libc.math cimport log as clog\n",
    "\n",
    "# \"ctypedef\" assigns a corresponding compile-time type to DTYPE_t. For\n",
    "# every type in the numpy module there's a corresponding compile-time\n",
    "# type with a _t-suffix.\n",
    "ctypedef np.int_t DTYPE_t\n",
    "\n",
    "@cython.boundscheck(False)\n",
    "@cython.wraparound(False)\n",
    "cdef np.ndarray[float] c_target_mean_v3(np.ndarray[long] col_x, np.ndarray[long] col_y):\n",
    "    \n",
    "    assert (col_x.dtype == np.long \n",
    "            and col_y.dtype == np.long \n",
    "            and len(col_x) == len(col_y))\n",
    "    \n",
    "    # 声明并初始化循环使用的变量\n",
    "    cdef int i = 0, n_rows = len(col_x)\n",
    "    \n",
    "    # 声明返回数据并初始化为0\n",
    "    cdef np.ndarray[double] result = np.empty(n_rows)\n",
    "    # 只有一个数据的情况\n",
    "    if n_rows == 1:\n",
    "        result[0] = col_y[i]\n",
    "        return result\n",
    "    \n",
    "    map_dict = dict()\n",
    "    for i in range(n_rows):\n",
    "        if col_x[i] not in map_dict.keys():\n",
    "            map_dict[col_x[i]] = list([col_y[i],1])\n",
    "        else:\n",
    "            map_dict[col_x[i]][0] += col_y[i]\n",
    "            map_dict[col_x[i]][1] += 1\n",
    "    cdef long long x, sum_y_by_x, count_x\n",
    "    for i in range(n_rows):\n",
    "        x = col_x[i]\n",
    "        sum_y_by_x = map_dict[x][0]-col_y[i]\n",
    "        count_x = map_dict[x][1]\n",
    "        result[i] = sum_y_by_x/(count_x-1)\n",
    "    return result\n",
    "\n",
    "# 封装\n",
    "cpdef np.ndarray[float] target_mean_v3(data, y_name, x_name):\n",
    "    return c_target_mean_v3(data[x_name].to_numpy(),data[y_name].to_numpy())"
   ]
  },
  {
   "cell_type": "code",
   "execution_count": 56,
   "metadata": {},
   "outputs": [
    {
     "name": "stdout",
     "output_type": "stream",
     "text": [
      "0.0\n"
     ]
    }
   ],
   "source": [
    "#result_1 = target_mean_v1(data, 'y', 'x')\n",
    "result_2 = target_mean_v2(data, 'y', 'x')\n",
    "result_3 = target_mean_v2(data, 'y', 'x')\n",
    "diff = np.linalg.norm(result_2 - result_3)\n",
    "print(diff)"
   ]
  },
  {
   "cell_type": "code",
   "execution_count": 52,
   "metadata": {},
   "outputs": [
    {
     "name": "stdout",
     "output_type": "stream",
     "text": [
      "18.5 s ± 626 ms per loop (mean ± std. dev. of 7 runs, 1 loop each)\n"
     ]
    }
   ],
   "source": [
    "%%timeit\n",
    "target_mean_v1(data, 'y', 'x')"
   ]
  },
  {
   "cell_type": "code",
   "execution_count": 57,
   "metadata": {},
   "outputs": [
    {
     "name": "stdout",
     "output_type": "stream",
     "text": [
      "972 µs ± 170 µs per loop (mean ± std. dev. of 7 runs, 1000 loops each)\n"
     ]
    }
   ],
   "source": [
    "%%timeit\n",
    "target_mean_v3(data, 'y', 'x')"
   ]
  }
 ],
 "metadata": {
  "kernelspec": {
   "display_name": "Python 3",
   "language": "python",
   "name": "python3"
  },
  "language_info": {
   "codemirror_mode": {
    "name": "ipython",
    "version": 3
   },
   "file_extension": ".py",
   "mimetype": "text/x-python",
   "name": "python",
   "nbconvert_exporter": "python",
   "pygments_lexer": "ipython3",
   "version": "3.8.5"
  }
 },
 "nbformat": 4,
 "nbformat_minor": 4
}
